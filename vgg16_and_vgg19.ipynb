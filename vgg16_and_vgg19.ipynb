{
 "cells": [
  {
   "cell_type": "code",
   "execution_count": 1,
   "id": "a1e43bb2",
   "metadata": {},
   "outputs": [],
   "source": [
    "import keras\n",
    "from keras.models import Model,Sequential\n",
    "from keras.layers import Input,Dense,Conv2D,MaxPooling2D,Flatten,BatchNormalization,Dropout,InputLayer\n",
    "from keras.preprocessing.image import ImageDataGenerator"
   ]
  },
  {
   "cell_type": "markdown",
   "id": "ced654b8",
   "metadata": {},
   "source": [
    "vgg16\n"
   ]
  },
  {
   "cell_type": "code",
   "execution_count": 3,
   "id": "1aa9b61f",
   "metadata": {},
   "outputs": [],
   "source": [
    "from keras.applications.vgg16 import VGG16\n",
    "from keras.applications.vgg19 import VGG19"
   ]
  },
  {
   "cell_type": "code",
   "execution_count": 27,
   "id": "377b83fd",
   "metadata": {},
   "outputs": [],
   "source": [
    "vgg16_model=VGG16(include_top=False,weights='imagenet',input_shape=(222,222,3))"
   ]
  },
  {
   "cell_type": "code",
   "execution_count": 28,
   "id": "86f274a4",
   "metadata": {},
   "outputs": [
    {
     "name": "stdout",
     "output_type": "stream",
     "text": [
      "Model: \"vgg16\"\n",
      "_________________________________________________________________\n",
      " Layer (type)                Output Shape              Param #   \n",
      "=================================================================\n",
      " input_6 (InputLayer)        [(None, 222, 222, 3)]     0         \n",
      "                                                                 \n",
      " block1_conv1 (Conv2D)       (None, 222, 222, 64)      1792      \n",
      "                                                                 \n",
      " block1_conv2 (Conv2D)       (None, 222, 222, 64)      36928     \n",
      "                                                                 \n",
      " block1_pool (MaxPooling2D)  (None, 111, 111, 64)      0         \n",
      "                                                                 \n",
      " block2_conv1 (Conv2D)       (None, 111, 111, 128)     73856     \n",
      "                                                                 \n",
      " block2_conv2 (Conv2D)       (None, 111, 111, 128)     147584    \n",
      "                                                                 \n",
      " block2_pool (MaxPooling2D)  (None, 55, 55, 128)       0         \n",
      "                                                                 \n",
      " block3_conv1 (Conv2D)       (None, 55, 55, 256)       295168    \n",
      "                                                                 \n",
      " block3_conv2 (Conv2D)       (None, 55, 55, 256)       590080    \n",
      "                                                                 \n",
      " block3_conv3 (Conv2D)       (None, 55, 55, 256)       590080    \n",
      "                                                                 \n",
      " block3_pool (MaxPooling2D)  (None, 27, 27, 256)       0         \n",
      "                                                                 \n",
      " block4_conv1 (Conv2D)       (None, 27, 27, 512)       1180160   \n",
      "                                                                 \n",
      " block4_conv2 (Conv2D)       (None, 27, 27, 512)       2359808   \n",
      "                                                                 \n",
      " block4_conv3 (Conv2D)       (None, 27, 27, 512)       2359808   \n",
      "                                                                 \n",
      " block4_pool (MaxPooling2D)  (None, 13, 13, 512)       0         \n",
      "                                                                 \n",
      " block5_conv1 (Conv2D)       (None, 13, 13, 512)       2359808   \n",
      "                                                                 \n",
      " block5_conv2 (Conv2D)       (None, 13, 13, 512)       2359808   \n",
      "                                                                 \n",
      " block5_conv3 (Conv2D)       (None, 13, 13, 512)       2359808   \n",
      "                                                                 \n",
      " block5_pool (MaxPooling2D)  (None, 6, 6, 512)         0         \n",
      "                                                                 \n",
      "=================================================================\n",
      "Total params: 14714688 (56.13 MB)\n",
      "Trainable params: 14714688 (56.13 MB)\n",
      "Non-trainable params: 0 (0.00 Byte)\n",
      "_________________________________________________________________\n"
     ]
    }
   ],
   "source": [
    "vgg16_model.summary()"
   ]
  },
  {
   "cell_type": "code",
   "execution_count": 29,
   "id": "f1e3a907",
   "metadata": {},
   "outputs": [
    {
     "name": "stdout",
     "output_type": "stream",
     "text": [
      "input_6 False\n",
      "block1_conv1 False\n",
      "block1_conv2 False\n",
      "block1_pool False\n",
      "block2_conv1 False\n",
      "block2_conv2 False\n",
      "block2_pool False\n",
      "block3_conv1 False\n",
      "block3_conv2 False\n",
      "block3_conv3 False\n",
      "block3_pool False\n",
      "block4_conv1 False\n",
      "block4_conv2 False\n",
      "block4_conv3 False\n",
      "block4_pool False\n",
      "block5_conv1 True\n",
      "block5_conv2 True\n",
      "block5_conv3 True\n",
      "block5_pool True\n"
     ]
    }
   ],
   "source": [
    "for layer in vgg16_model.layers:\n",
    "    if \"block5\" not in layer.name:\n",
    "        layer.trainable=False\n",
    "    print(layer.name,layer.trainable)"
   ]
  },
  {
   "cell_type": "code",
   "execution_count": 30,
   "id": "0669e2c6",
   "metadata": {},
   "outputs": [
    {
     "name": "stdout",
     "output_type": "stream",
     "text": [
      "Model: \"vgg16\"\n",
      "_________________________________________________________________\n",
      " Layer (type)                Output Shape              Param #   \n",
      "=================================================================\n",
      " input_6 (InputLayer)        [(None, 222, 222, 3)]     0         \n",
      "                                                                 \n",
      " block1_conv1 (Conv2D)       (None, 222, 222, 64)      1792      \n",
      "                                                                 \n",
      " block1_conv2 (Conv2D)       (None, 222, 222, 64)      36928     \n",
      "                                                                 \n",
      " block1_pool (MaxPooling2D)  (None, 111, 111, 64)      0         \n",
      "                                                                 \n",
      " block2_conv1 (Conv2D)       (None, 111, 111, 128)     73856     \n",
      "                                                                 \n",
      " block2_conv2 (Conv2D)       (None, 111, 111, 128)     147584    \n",
      "                                                                 \n",
      " block2_pool (MaxPooling2D)  (None, 55, 55, 128)       0         \n",
      "                                                                 \n",
      " block3_conv1 (Conv2D)       (None, 55, 55, 256)       295168    \n",
      "                                                                 \n",
      " block3_conv2 (Conv2D)       (None, 55, 55, 256)       590080    \n",
      "                                                                 \n",
      " block3_conv3 (Conv2D)       (None, 55, 55, 256)       590080    \n",
      "                                                                 \n",
      " block3_pool (MaxPooling2D)  (None, 27, 27, 256)       0         \n",
      "                                                                 \n",
      " block4_conv1 (Conv2D)       (None, 27, 27, 512)       1180160   \n",
      "                                                                 \n",
      " block4_conv2 (Conv2D)       (None, 27, 27, 512)       2359808   \n",
      "                                                                 \n",
      " block4_conv3 (Conv2D)       (None, 27, 27, 512)       2359808   \n",
      "                                                                 \n",
      " block4_pool (MaxPooling2D)  (None, 13, 13, 512)       0         \n",
      "                                                                 \n",
      " block5_conv1 (Conv2D)       (None, 13, 13, 512)       2359808   \n",
      "                                                                 \n",
      " block5_conv2 (Conv2D)       (None, 13, 13, 512)       2359808   \n",
      "                                                                 \n",
      " block5_conv3 (Conv2D)       (None, 13, 13, 512)       2359808   \n",
      "                                                                 \n",
      " block5_pool (MaxPooling2D)  (None, 6, 6, 512)         0         \n",
      "                                                                 \n",
      "=================================================================\n",
      "Total params: 14714688 (56.13 MB)\n",
      "Trainable params: 7079424 (27.01 MB)\n",
      "Non-trainable params: 7635264 (29.13 MB)\n",
      "_________________________________________________________________\n"
     ]
    }
   ],
   "source": [
    "vgg16_model.summary()"
   ]
  },
  {
   "cell_type": "code",
   "execution_count": 31,
   "id": "df664def",
   "metadata": {},
   "outputs": [],
   "source": [
    "model=Sequential()\n",
    "model.add(vgg16_model)\n",
    "model.add(Flatten())\n",
    "model.add(Dense(1294,activation=\"relu\"))\n",
    "model.add(Dense(1294,activation=\"relu\"))\n",
    "model.add(Dense(2,activation=\"softmax\"))"
   ]
  },
  {
   "cell_type": "code",
   "execution_count": null,
   "id": "ab60038d",
   "metadata": {},
   "outputs": [],
   "source": []
  },
  {
   "cell_type": "code",
   "execution_count": 32,
   "id": "a2529be9",
   "metadata": {},
   "outputs": [
    {
     "name": "stdout",
     "output_type": "stream",
     "text": [
      "Model: \"sequential_2\"\n",
      "_________________________________________________________________\n",
      " Layer (type)                Output Shape              Param #   \n",
      "=================================================================\n",
      " vgg16 (Functional)          (None, 6, 6, 512)         14714688  \n",
      "                                                                 \n",
      " flatten_1 (Flatten)         (None, 18432)             0         \n",
      "                                                                 \n",
      " dense (Dense)               (None, 1294)              23852302  \n",
      "                                                                 \n",
      " dense_1 (Dense)             (None, 1294)              1675730   \n",
      "                                                                 \n",
      " dense_2 (Dense)             (None, 2)                 2590      \n",
      "                                                                 \n",
      "=================================================================\n",
      "Total params: 40245310 (153.52 MB)\n",
      "Trainable params: 32610046 (124.40 MB)\n",
      "Non-trainable params: 7635264 (29.13 MB)\n",
      "_________________________________________________________________\n"
     ]
    }
   ],
   "source": [
    "model.summary()"
   ]
  },
  {
   "cell_type": "code",
   "execution_count": 18,
   "id": "c82a8eb9",
   "metadata": {},
   "outputs": [
    {
     "name": "stdout",
     "output_type": "stream",
     "text": [
      "Model: \"vgg16\"\n",
      "_________________________________________________________________\n",
      " Layer (type)                Output Shape              Param #   \n",
      "=================================================================\n",
      " input_4 (InputLayer)        [(None, 222, 222, 3)]     0         \n",
      "                                                                 \n",
      " block1_conv1 (Conv2D)       (None, 222, 222, 64)      1792      \n",
      "                                                                 \n",
      " block1_conv2 (Conv2D)       (None, 222, 222, 64)      36928     \n",
      "                                                                 \n",
      " block1_pool (MaxPooling2D)  (None, 111, 111, 64)      0         \n",
      "                                                                 \n",
      " block2_conv1 (Conv2D)       (None, 111, 111, 128)     73856     \n",
      "                                                                 \n",
      " block2_conv2 (Conv2D)       (None, 111, 111, 128)     147584    \n",
      "                                                                 \n",
      " block2_pool (MaxPooling2D)  (None, 55, 55, 128)       0         \n",
      "                                                                 \n",
      " block3_conv1 (Conv2D)       (None, 55, 55, 256)       295168    \n",
      "                                                                 \n",
      " block3_conv2 (Conv2D)       (None, 55, 55, 256)       590080    \n",
      "                                                                 \n",
      " block3_conv3 (Conv2D)       (None, 55, 55, 256)       590080    \n",
      "                                                                 \n",
      " block3_pool (MaxPooling2D)  (None, 27, 27, 256)       0         \n",
      "                                                                 \n",
      " block4_conv1 (Conv2D)       (None, 27, 27, 512)       1180160   \n",
      "                                                                 \n",
      " block4_conv2 (Conv2D)       (None, 27, 27, 512)       2359808   \n",
      "                                                                 \n",
      " block4_conv3 (Conv2D)       (None, 27, 27, 512)       2359808   \n",
      "                                                                 \n",
      " block4_pool (MaxPooling2D)  (None, 13, 13, 512)       0         \n",
      "                                                                 \n",
      " block5_conv1 (Conv2D)       (None, 13, 13, 512)       2359808   \n",
      "                                                                 \n",
      " block5_conv2 (Conv2D)       (None, 13, 13, 512)       2359808   \n",
      "                                                                 \n",
      " block5_conv3 (Conv2D)       (None, 13, 13, 512)       2359808   \n",
      "                                                                 \n",
      " block5_pool (MaxPooling2D)  (None, 6, 6, 512)         0         \n",
      "                                                                 \n",
      "=================================================================\n",
      "Total params: 14714688 (56.13 MB)\n",
      "Trainable params: 0 (0.00 Byte)\n",
      "Non-trainable params: 14714688 (56.13 MB)\n",
      "_________________________________________________________________\n"
     ]
    }
   ],
   "source": [
    "vgg16_model.summary()"
   ]
  },
  {
   "cell_type": "code",
   "execution_count": null,
   "id": "eb868b78",
   "metadata": {},
   "outputs": [],
   "source": [
    "model=Sequential()\n",
    "model.add(InputLayer(input_shape=(224,224,3))) -- #input layer\n",
    "\n",
    "model.add(Conv2D(64,kernel_size=(3,3),strides=(1,1),padding=\"same\",activation=\"relu\"))\n",
    "model.add(Conv2D(64,kernel_size=(3,3),strides=(1,1),padding=\"same\",activation=\"relu\"))\n",
    "model.add(MaxPooling2D(pool_size=(2,2),strides=(2,2),padding=\"valid\"))\n",
    "model.add(BatchNormalization())\n",
    "\n",
    "\n",
    "model.add(Conv2D(128,kernel_size=(3,3),strides=(1,1),padding=\"same\",activation=\"relu\"))\n",
    "model.add(Conv2D(128,kernel_size=(3,3),strides=(1,1),padding=\"same\",activation=\"relu\"))\n",
    "model.add(MaxPooling2D(pool_size=(2,2),strides=(2,2),padding=\"valid\"))\n",
    "model.add(BatchNormalization())\n",
    "\n",
    "\n",
    "model.add(Conv2D(256,kernel_size=(3,3),strides=(1,1),padding=\"same\",activation=\"relu\"))\n",
    "model.add(Conv2D(256,kernel_size=(3,3),strides=(1,1),padding=\"same\",activation=\"relu\"))\n",
    "model.add(Conv2D(256,kernel_size=(3,3),strides=(1,1),padding=\"same\",activation=\"relu\"))\n",
    "model.add(MaxPooling2D(pool_size=(2,2),strides=(2,2),padding=\"valid\"))\n",
    "model.add(BatchNormalization())\n",
    "\n",
    "model.add(Conv2D(512,kernel_size=(3,3),strides=(1,1),padding=\"same\",activation=\"relu\"))\n",
    "model.add(Conv2D(512,kernel_size=(3,3),strides=(1,1),padding=\"same\",activation=\"relu\"))\n",
    "model.add(Conv2D(512,kernel_size=(3,3),strides=(1,1),padding=\"same\",activation=\"relu\"))\n",
    "model.add(MaxPooling2D(pool_size=(2,2),strides=(2,2),padding=\"valid\"))\n",
    "model.add(BatchNormalization())\n",
    "\n",
    "model.add(Conv2D(512,kernel_size=(3,3),strides=(1,1),padding=\"same\",activation=\"relu\"))\n",
    "model.add(Conv2D(512,kernel_size=(3,3),strides=(1,1),padding=\"same\",activation=\"relu\"))\n",
    "model.add(Conv2D(512,kernel_size=(3,3),strides=(1,1),padding=\"same\",activation=\"relu\"))\n",
    "model.add(MaxPooling2D(pool_size=(2,2),strides=(2,2),padding=\"valid\"))\n",
    "model.add(BatchNormalization())\n",
    "\n",
    "model.add(Flatten())\n",
    "\n",
    "model.Dense(4096,activation=\"relu\")\n",
    "model.add(Dropout(rate=0.5))\n",
    "model.Dense(4096,activation=\"relu\")\n",
    "model.add(Dropout(rate=0.5))\n",
    "model.Dense(1000,activation=\"softmax\")"
   ]
  },
  {
   "cell_type": "markdown",
   "id": "cee14a18",
   "metadata": {},
   "source": [
    "vgg19"
   ]
  },
  {
   "cell_type": "code",
   "execution_count": null,
   "id": "aabca16d",
   "metadata": {},
   "outputs": [],
   "source": [
    "model=Sequential()\n",
    "model.add(InputLayer(input_shape=(224,224,3))) -- #input layer\n",
    "\n",
    "model.add(Conv2D(64,kernel_size=(3,3),strides=(1,1),padding=\"same\",activation=\"relu\"))\n",
    "model.add(Conv2D(64,kernel_size=(3,3),strides=(1,1),padding=\"same\",activation=\"relu\"))\n",
    "model.add(MaxPooling2D(pool_size=(2,2),strides=(2,2),padding=\"valid\"))\n",
    "\n",
    "model.add(Conv2D(128,kernel_size=(3,3),strides=(1,1),padding=\"same\",activation=\"relu\"))\n",
    "model.add(Conv2D(128,kernel_size=(3,3),strides=(1,1),padding=\"same\",activation=\"relu\"))\n",
    "model.add(MaxPooling2D(pool_size=(2,2),strides=(2,2),padding=\"valid\"))\n",
    "\n",
    "\n",
    "model.add(Conv2D(256,kernel_size=(3,3),strides=(1,1),padding=\"same\",activation=\"relu\"))\n",
    "model.add(Conv2D(256,kernel_size=(3,3),strides=(1,1),padding=\"same\",activation=\"relu\"))\n",
    "model.add(Conv2D(256,kernel_size=(3,3),strides=(1,1),padding=\"same\",activation=\"relu\"))\n",
    "model.add(Conv2D(256,kernel_size=(3,3),strides=(1,1),padding=\"same\",activation=\"relu\"))\n",
    "model.add(MaxPooling2D(pool_size=(2,2),strides=(2,2),padding=\"valid\"))\n",
    "\n",
    "model.add(Conv2D(512,kernel_size=(3,3),strides=(1,1),padding=\"same\",activation=\"relu\"))\n",
    "model.add(Conv2D(512,kernel_size=(3,3),strides=(1,1),padding=\"same\",activation=\"relu\"))\n",
    "model.add(Conv2D(512,kernel_size=(3,3),strides=(1,1),padding=\"same\",activation=\"relu\"))\n",
    "model.add(Conv2D(512,kernel_size=(3,3),strides=(1,1),padding=\"same\",activation=\"relu\"))\n",
    "model.add(MaxPooling2D(pool_size=(2,2),strides=(2,2),padding=\"valid\"))\n",
    "\n",
    "model.add(Conv2D(512,kernel_size=(3,3),strides=(1,1),padding=\"same\",activation=\"relu\"))\n",
    "model.add(Conv2D(512,kernel_size=(3,3),strides=(1,1),padding=\"same\",activation=\"relu\"))\n",
    "model.add(Conv2D(512,kernel_size=(3,3),strides=(1,1),padding=\"same\",activation=\"relu\"))\n",
    "model.add(Conv2D(512,kernel_size=(3,3),strides=(1,1),padding=\"same\",activation=\"relu\"))\n",
    "model.add(MaxPooling2D(pool_size=(2,2),strides=(2,2),padding=\"valid\"))\n",
    "\n",
    "model.add(Flatten())\n",
    "\n",
    "model.Dense(4096,activation=\"relu\")\n",
    "model.Dense(4096,activation=\"relu\")\n",
    "model.Dense(1000,activation=\"softmax\")"
   ]
  },
  {
   "cell_type": "code",
   "execution_count": 34,
   "id": "54a5cf7b",
   "metadata": {},
   "outputs": [],
   "source": [
    "train_gen=ImageDataGenerator(rotation_range=45,width_shift_range=0.4,\n",
    "    height_shift_range=0.4,\n",
    "    brightness_range=[-0.2,1.5],\n",
    "    shear_range=4,rescale=1./255)\n",
    "\n",
    "test_gen=ImageDataGenerator(rescale=1./255)"
   ]
  },
  {
   "cell_type": "markdown",
   "id": "6be706ec",
   "metadata": {},
   "source": [
    "Step-2"
   ]
  },
  {
   "cell_type": "code",
   "execution_count": 38,
   "id": "c0407b16",
   "metadata": {},
   "outputs": [
    {
     "name": "stdout",
     "output_type": "stream",
     "text": [
      "Found 600 images belonging to 2 classes.\n",
      "Found 306 images belonging to 2 classes.\n"
     ]
    }
   ],
   "source": [
    "final_train_gen=train_gen.flow_from_directory(r\"C:\\Users\\LENOVO\\Downloads\\New Masks Dataset\\Train\",target_size=(222, 222),class_mode=\"sparse\",\n",
    "                              batch_size=32)\n",
    "\n",
    "final_val_gen=test_gen.flow_from_directory(r\"C:\\Users\\LENOVO\\Downloads\\New Masks Dataset\\Validation\",target_size=(222, 222),class_mode=\"sparse\",\n",
    "                              batch_size=32)"
   ]
  },
  {
   "cell_type": "code",
   "execution_count": 25,
   "id": "38f2e2b1",
   "metadata": {},
   "outputs": [],
   "source": [
    "input_layer = Input(shape = (227,227,3))\n",
    "conv_1 =Conv2D(96, (11,11),strides=(4,4), padding='valid', activation = \"relu\")(input_layer)\n",
    "max_pol1 = MaxPooling2D(pool_size = (3,3), strides = (2,2), padding = \"valid\")(conv_1)\n",
    "\n",
    "bn1=BatchNormalization()(max_pol1)\n",
    "\n",
    "conv_2 = Conv2D(256, (5,5),strides=(1,1), padding='same', activation = \"relu\")(bn1)\n",
    "max_pol2 = MaxPooling2D(pool_size = (3,3), strides = (2,2), padding = \"valid\")(conv_2)\n",
    "\n",
    "bn2=BatchNormalization()(max_pol2)\n",
    "\n",
    "conv_3 = Conv2D(384, (3,3),strides=(1,1), padding='same', activation = \"relu\")(bn2)\n",
    "\n",
    "bn3=BatchNormalization()(conv_3)\n",
    "\n",
    "conv_4 = Conv2D(384, (3,3),strides=(1,1), padding='same', activation = \"relu\")(bn3)\n",
    "\n",
    "bn4=BatchNormalization()(conv_4)\n",
    "\n",
    "conv_5 = Conv2D(256, (3,3),strides=(1,1), padding='same', activation = \"relu\")(bn4)\n",
    "max_pol3 = MaxPooling2D(pool_size = (3,3), strides = (2,2), padding = \"valid\")(conv_5)\n",
    "\n",
    "bn5 = BatchNormalization()(max_pol3)\n",
    "\n",
    "flatten = Flatten()(bn5)\n",
    "\n",
    "dens_1 = Dense(units = 4096, activation = \"relu\")(flatten)\n",
    "\n",
    "d1=Dropout(rate=0.5)(dens_1)\n",
    "\n",
    "dens_2 = Dense(units = 4096, activation = \"relu\")(d1)\n",
    "\n",
    "d2=Dropout(rate=0.5)(dens_2)\n",
    "\n",
    "dens_4 = Dense(units = 2, activation = \"softmax\")(d2)"
   ]
  },
  {
   "cell_type": "code",
   "execution_count": 39,
   "id": "584bea95",
   "metadata": {},
   "outputs": [
    {
     "name": "stdout",
     "output_type": "stream",
     "text": [
      "Model: \"sequential_2\"\n",
      "_________________________________________________________________\n",
      " Layer (type)                Output Shape              Param #   \n",
      "=================================================================\n",
      " vgg16 (Functional)          (None, 6, 6, 512)         14714688  \n",
      "                                                                 \n",
      " flatten_1 (Flatten)         (None, 18432)             0         \n",
      "                                                                 \n",
      " dense (Dense)               (None, 1294)              23852302  \n",
      "                                                                 \n",
      " dense_1 (Dense)             (None, 1294)              1675730   \n",
      "                                                                 \n",
      " dense_2 (Dense)             (None, 2)                 2590      \n",
      "                                                                 \n",
      "=================================================================\n",
      "Total params: 40245310 (153.52 MB)\n",
      "Trainable params: 32610046 (124.40 MB)\n",
      "Non-trainable params: 7635264 (29.13 MB)\n",
      "_________________________________________________________________\n"
     ]
    }
   ],
   "source": [
    "model.summary()"
   ]
  },
  {
   "cell_type": "code",
   "execution_count": 28,
   "id": "66cbc45a",
   "metadata": {},
   "outputs": [],
   "source": [
    "alexnet = Model(inputs = input_layer, outputs = dens_4)"
   ]
  },
  {
   "cell_type": "code",
   "execution_count": 29,
   "id": "8e248408",
   "metadata": {
    "scrolled": true
   },
   "outputs": [
    {
     "name": "stdout",
     "output_type": "stream",
     "text": [
      "Model: \"model_4\"\n",
      "_________________________________________________________________\n",
      " Layer (type)                Output Shape              Param #   \n",
      "=================================================================\n",
      " input_9 (InputLayer)        [(None, 227, 227, 3)]     0         \n",
      "                                                                 \n",
      " conv2d_23 (Conv2D)          (None, 55, 55, 96)        34944     \n",
      "                                                                 \n",
      " max_pooling2d_13 (MaxPooli  (None, 27, 27, 96)        0         \n",
      " ng2D)                                                           \n",
      "                                                                 \n",
      " batch_normalization_15 (Ba  (None, 27, 27, 96)        384       \n",
      " tchNormalization)                                               \n",
      "                                                                 \n",
      " conv2d_24 (Conv2D)          (None, 27, 27, 256)       614656    \n",
      "                                                                 \n",
      " max_pooling2d_14 (MaxPooli  (None, 13, 13, 256)       0         \n",
      " ng2D)                                                           \n",
      "                                                                 \n",
      " batch_normalization_16 (Ba  (None, 13, 13, 256)       1024      \n",
      " tchNormalization)                                               \n",
      "                                                                 \n",
      " conv2d_25 (Conv2D)          (None, 13, 13, 384)       885120    \n",
      "                                                                 \n",
      " batch_normalization_17 (Ba  (None, 13, 13, 384)       1536      \n",
      " tchNormalization)                                               \n",
      "                                                                 \n",
      " conv2d_26 (Conv2D)          (None, 13, 13, 384)       1327488   \n",
      "                                                                 \n",
      " batch_normalization_18 (Ba  (None, 13, 13, 384)       1536      \n",
      " tchNormalization)                                               \n",
      "                                                                 \n",
      " conv2d_27 (Conv2D)          (None, 13, 13, 256)       884992    \n",
      "                                                                 \n",
      " max_pooling2d_15 (MaxPooli  (None, 6, 6, 256)         0         \n",
      " ng2D)                                                           \n",
      "                                                                 \n",
      " batch_normalization_19 (Ba  (None, 6, 6, 256)         1024      \n",
      " tchNormalization)                                               \n",
      "                                                                 \n",
      " flatten_4 (Flatten)         (None, 9216)              0         \n",
      "                                                                 \n",
      " dense_14 (Dense)            (None, 4096)              37752832  \n",
      "                                                                 \n",
      " dropout_6 (Dropout)         (None, 4096)              0         \n",
      "                                                                 \n",
      " dense_15 (Dense)            (None, 4096)              16781312  \n",
      "                                                                 \n",
      " dropout_7 (Dropout)         (None, 4096)              0         \n",
      "                                                                 \n",
      " dense_16 (Dense)            (None, 2)                 8194      \n",
      "                                                                 \n",
      "=================================================================\n",
      "Total params: 58295042 (222.38 MB)\n",
      "Trainable params: 58292290 (222.37 MB)\n",
      "Non-trainable params: 2752 (10.75 KB)\n",
      "_________________________________________________________________\n"
     ]
    }
   ],
   "source": [
    "alexnet.summary()"
   ]
  },
  {
   "cell_type": "code",
   "execution_count": 40,
   "id": "4f8511db",
   "metadata": {},
   "outputs": [],
   "source": [
    "model.compile(optimizer='adam',loss=\"sparse_categorical_crossentropy\",metrics=[\"accuracy\"])"
   ]
  },
  {
   "cell_type": "code",
   "execution_count": null,
   "id": "aa9f4d3d",
   "metadata": {},
   "outputs": [
    {
     "name": "stderr",
     "output_type": "stream",
     "text": [
      "C:\\Users\\LENOVO\\AppData\\Local\\Temp\\ipykernel_21352\\2444397242.py:1: UserWarning: `Model.fit_generator` is deprecated and will be removed in a future version. Please use `Model.fit`, which supports generators.\n",
      "  model.fit_generator(final_train_gen,steps_per_epoch=600//32,epochs=10,validation_data=final_val_gen,validation_steps=306//32)\n"
     ]
    },
    {
     "name": "stdout",
     "output_type": "stream",
     "text": [
      "Epoch 1/10\n",
      "18/18 [==============================] - 282s 15s/step - loss: 2.4870 - accuracy: 0.4947 - val_loss: 0.6934 - val_accuracy: 0.5035\n",
      "Epoch 2/10\n",
      "15/18 [========================>.....] - ETA: 24s - loss: 0.6941 - accuracy: 0.4831"
     ]
    }
   ],
   "source": [
    "model.fit_generator(final_train_gen,steps_per_epoch=600//32,epochs=10,validation_data=final_val_gen,validation_steps=306//32)"
   ]
  },
  {
   "cell_type": "code",
   "execution_count": 36,
   "id": "e10128db",
   "metadata": {},
   "outputs": [],
   "source": [
    "import cv2\n",
    "import numpy as np"
   ]
  },
  {
   "cell_type": "code",
   "execution_count": 34,
   "id": "6dd209b9",
   "metadata": {},
   "outputs": [],
   "source": [
    "img=cv2.imread(r\"C:\\Users\\LENOVO\\Downloads\\New Masks Dataset\\Test\\Non Mask\\real_01065.jpg\")"
   ]
  },
  {
   "cell_type": "code",
   "execution_count": 38,
   "id": "e4939922",
   "metadata": {},
   "outputs": [
    {
     "data": {
      "text/plain": [
       "(1, 227, 227, 3)"
      ]
     },
     "execution_count": 38,
     "metadata": {},
     "output_type": "execute_result"
    }
   ],
   "source": [
    "cv2.resize(img,(227,227))[np.newaxis]"
   ]
  },
  {
   "cell_type": "code",
   "execution_count": 40,
   "id": "e7c8c952",
   "metadata": {},
   "outputs": [
    {
     "name": "stdout",
     "output_type": "stream",
     "text": [
      "1/1 [==============================] - 0s 105ms/step\n"
     ]
    },
    {
     "data": {
      "text/plain": [
       "1"
      ]
     },
     "execution_count": 40,
     "metadata": {},
     "output_type": "execute_result"
    }
   ],
   "source": [
    "np.argmax(alexnet.predict(cv2.resize(img,(227,227))[np.newaxis]))"
   ]
  },
  {
   "cell_type": "code",
   "execution_count": 41,
   "id": "484e049f",
   "metadata": {},
   "outputs": [
    {
     "data": {
      "text/plain": [
       "{'Mask': 0, 'Non Mask': 1}"
      ]
     },
     "execution_count": 41,
     "metadata": {},
     "output_type": "execute_result"
    }
   ],
   "source": [
    "final_train_gen.class_indices"
   ]
  },
  {
   "cell_type": "code",
   "execution_count": 42,
   "id": "f4ae054a",
   "metadata": {},
   "outputs": [],
   "source": [
    "face_model=cv2.CascadeClassifier(r\"C:\\Users\\LENOVO\\Downloads\\haarcascade_frontalface_alt (1).xml\")"
   ]
  },
  {
   "cell_type": "code",
   "execution_count": 48,
   "id": "b4d8b5cf",
   "metadata": {},
   "outputs": [
    {
     "name": "stdout",
     "output_type": "stream",
     "text": [
      "1/1 [==============================] - 0s 481ms/step\n"
     ]
    }
   ],
   "source": [
    "face_model=cv2.CascadeClassifier(r\"C:\\Users\\LENOVO\\Downloads\\haarcascade_frontalface_alt (1).xml\")\n",
    "for x,y,w,h in face_model.detectMultiScale(img):\n",
    "    cv2.rectangle(img,(x,y),(x+w,y+h),(255,0,0),1)\n",
    "    \n",
    "    if np.argmax(alexnet.predict(cv2.resize(img,(227,227))[np.newaxis]))==0:\n",
    "        cv2.putText(img,'Mask',(x+10,y+10),cv2.FONT_HERSHEY_SIMPLEX,1,(255,0,0))\n",
    "        cv2.putText(img,'Mask',(x+10,y+10),cv2.FONT_HERSHEY_SIMPLE,1,(255,0,0))\n",
    "    else:\n",
    "        cv2.putText(img,'without Mask',(x+10,y+10),cv2.FONT_HERSHEY_SIMPLEX,1,(255,0,0))"
   ]
  },
  {
   "cell_type": "code",
   "execution_count": 49,
   "id": "af67ecaf",
   "metadata": {},
   "outputs": [],
   "source": [
    "cv2.imshow(\"im\",img)\n",
    "cv2.waitKey()\n",
    "cv2.destroyAllWindows()"
   ]
  },
  {
   "cell_type": "code",
   "execution_count": null,
   "id": "76211b63",
   "metadata": {},
   "outputs": [],
   "source": []
  }
 ],
 "metadata": {
  "kernelspec": {
   "display_name": "Python 3 (ipykernel)",
   "language": "python",
   "name": "python3"
  },
  "language_info": {
   "codemirror_mode": {
    "name": "ipython",
    "version": 3
   },
   "file_extension": ".py",
   "mimetype": "text/x-python",
   "name": "python",
   "nbconvert_exporter": "python",
   "pygments_lexer": "ipython3",
   "version": "3.10.9"
  }
 },
 "nbformat": 4,
 "nbformat_minor": 5
}
